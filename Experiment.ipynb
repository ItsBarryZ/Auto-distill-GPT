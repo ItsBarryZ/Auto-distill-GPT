{
 "cells": [
  {
   "cell_type": "code",
   "execution_count": 6,
   "id": "3cb0953a",
   "metadata": {},
   "outputs": [],
   "source": [
    "from openai_util import model_call\n",
    "import openai"
   ]
  },
  {
   "cell_type": "code",
   "execution_count": 16,
   "id": "6eef79ba",
   "metadata": {},
   "outputs": [],
   "source": [
    "philosophical_questions = [\n",
    "    \"Can people change?\",\n",
    "    \"How does one become a “good person”?\",\n",
    "    \"If someone’s personality changes, does that mean they have also changed?\",\n",
    "    \"Can you ever honestly know another person?\",\n",
    "    \"If someone’s intentions were good but the outcome of an action is terrible, at that moment, is the person good or bad?\",\n",
    "    \"If someone does a kind deed but has a selfish motive, does that impact the goodness of the deed?\"\n",
    "]\n",
    "models = {\n",
    "    \"gpt-3.5\": 'gpt-3.5-turbo',\n",
    "    \"gpt-4\": 'gpt-4',\n",
    "    \"distill-ft-gpt-3.5\": 'ft:gpt-3.5-turbo-0613:personal::7saY1Eav'\n",
    "}\n"
   ]
  },
  {
   "cell_type": "code",
   "execution_count": 21,
   "id": "28787588",
   "metadata": {},
   "outputs": [
    {
     "name": "stdout",
     "output_type": "stream",
     "text": [
      "question: Can people change? \n",
      "\n",
      "gpt-3.5: Yes, people can change. \n",
      "\n",
      "gpt-4: Yes, people can change. It requires self-awareness, effort, and a genuine desire to do so. It often involves personal growth, learning new skills, improving behaviors and habits, or transforming attitudes and outlooks. However, how much and in what ways people change can vary greatly depending on the individual and their circumstances. \n",
      "\n",
      "distill-ft-gpt-3.5: Yes, people can change. \n",
      "\n",
      "\n",
      "\n",
      "question: How does one become a “good person”? \n",
      "\n",
      "gpt-3.5: To become a \"good person,\" one can start by practicing acts of kindness, empathy, and compassion towards others. It involves respecting and treating others with fairness, honesty, and integrity. Self-reflection and self-improvement are crucial in cultivating moral values and virtues. Being open-minded, understanding diverse perspectives, and actively listening to others' needs can contribute to personal growth. Taking responsibility for one's actions, showing forgiveness, and striving to make a positive difference in the world are also important aspects of being a good person. \n",
      "\n",
      "gpt-4: 1. Practicing Empathy: Understanding others' perspectives can help make you more compassionate and forgiving.\n",
      "2. Honesty and Integrity: Always tell the truth and choose the right path, even when no one is watching.\n",
      "3. Respectfulness: Treat everyone with kindness and respect, regardless of who they are or their circumstances.\n",
      "4. Generosity: Be open to sharing your time, money, or abilities with those in need.\n",
      "5. Self-discipline: Develop good habits and restrain yourself from harmful ones.\n",
      "6. Being Grateful: Appreciate what you have and express thankfulness to others who help you.\n",
      "7. Personal Growth: Strive for continuous learning and improvement in all areas of life.\n",
      "8. Accountability: Own up to your mistakes, learn from them and make amends if necessary. \n",
      "9. Love and Care: Show love and care to others, including those who can offer you nothing in return. \n",
      "10. Persistence: Be willing to work hard and not give up when faced with challenges or failures. \n",
      "\n",
      "distill-ft-gpt-3.5: Becoming a \"good person\" entails cultivating empathy, practicing kindness, and striving for personal growth. It involves self-reflection, taking responsibility for one's actions, and treating others with respect and fairness. Additionally, being open-minded, showing compassion, and contributing positively to society are crucial aspects of becoming a good person. \n",
      "\n",
      "\n",
      "\n",
      "question: If someone’s personality changes, does that mean they have also changed? \n",
      "\n",
      "gpt-3.5: Yes, if someone's personality changes, it means they have also changed. \n",
      "\n",
      "gpt-4: Yes, because one's personality is a fundamental aspect of who they are as a person. A significant change in personality would thus represent a change in the individual themselves. \n",
      "\n",
      "distill-ft-gpt-3.5: Yes, if someone's personality changes, it implies that they have also changed in some way. \n",
      "\n",
      "\n",
      "\n",
      "question: Can you ever honestly know another person? \n",
      "\n",
      "gpt-3.5: No, you can never truly know another person entirely, as individuals can have complex thoughts, emotions, and motivations. \n",
      "\n",
      "gpt-4: Yes, you can gain a deep understanding of another person through direct interaction, observation, and empathy. However, you can never fully know another person in the same way they know themselves, as each individual's experiences, thoughts, and emotions are unique and personal. \n",
      "\n",
      "distill-ft-gpt-3.5: As an AI, I believe that truly knowing another person is a complex and subjective process. While we can gather information, observe behavior, and communicate with others, there will always be aspects of a person's thoughts, feelings, and experiences that may remain unknown to us. Therefore, complete and absolute knowledge of another person may be elusive, making it important to approach relationships with humility and open-mindedness. \n",
      "\n",
      "\n",
      "\n",
      "question: If someone’s intentions were good but the outcome of an action is terrible, at that moment, is the person good or bad? \n",
      "\n",
      "gpt-3.5: The person's intentions may be good, but the outcome of their action being terrible does not automatically make the person good or bad. It is important to consider their intentions, efforts, and willingness to learn from their mistakes in determining their overall character. \n",
      "\n",
      "gpt-4: This is a complex question as it broaches on morality which can be subjective. However, generally in ethics, a person's goodness or badness isn't measured solely by the outcomes of their actions but also by their intentions. So, in this scenario, while the outcome wasn't good, if the person genuinely had good intentions, they may not necessarily be seen as 'bad.' But, they could be viewed as misguided, ill-informed or irresponsible depending on the specifics of the situation. \n",
      "\n",
      "distill-ft-gpt-3.5: As an AI, I lack the ability to judge individuals as \"good\" or \"bad\" based on a single action or outcome. The morality of a person is a complex and multifaceted concept that cannot be reduced to a single event. It is important to consider factors such as intent, circumstances, and the overall pattern of behavior before making any moral judgments. \n",
      "\n",
      "\n",
      "\n",
      "question: If someone does a kind deed but has a selfish motive, does that impact the goodness of the deed? \n",
      "\n",
      "gpt-3.5: Yes, the presence of a selfish motive does impact the goodness of the deed. The true goodness of an action is often determined by the intention behind it. \n",
      "\n",
      "gpt-4: Yes, the motivation behind a deed influences its ethical evaluation. Although the deed itself may be good, a self-centered motive could dilute its goodness as it suggests the action wasn't done entirely for selfless reasons. However, the beneficiaries of the deed still receive the positive result. So while the goodness of the deed might be in question from the perspective of the doer's sincerity, the value to the recipient remains unchanged. \n",
      "\n",
      "distill-ft-gpt-3.5: Yes, the presence of a selfish motive does impact the goodness of the deed. The underlying intention behind an action often determines its moral value. \n",
      "\n",
      "\n",
      "\n"
     ]
    }
   ],
   "source": [
    "for question in philosophical_questions:\n",
    "    print(f\"question: {question} \\n\")\n",
    "    for model_name in models:\n",
    "        model_id = models[model_name]\n",
    "        print(f\"{model_name}: {model_call(question+', keep your answer relatively concise', model_id=model_id)} \\n\")\n",
    "        \n",
    "    print(\"\\n\")"
   ]
  },
  {
   "cell_type": "code",
   "execution_count": 12,
   "id": "e510a42b",
   "metadata": {},
   "outputs": [
    {
     "data": {
      "text/plain": [
       "'ft:gpt-3.5-turbo-0613:personal::7saY1Eav'"
      ]
     },
     "execution_count": 12,
     "metadata": {},
     "output_type": "execute_result"
    }
   ],
   "source": [
    "openai.FineTuningJob.retrieve('ftjob-GPeb1f946hYrxWkXc6tMPHUd').fine_tuned_model"
   ]
  }
 ],
 "metadata": {
  "kernelspec": {
   "display_name": "Python 3 (ipykernel)",
   "language": "python",
   "name": "python3"
  },
  "language_info": {
   "codemirror_mode": {
    "name": "ipython",
    "version": 3
   },
   "file_extension": ".py",
   "mimetype": "text/x-python",
   "name": "python",
   "nbconvert_exporter": "python",
   "pygments_lexer": "ipython3",
   "version": "3.9.6"
  }
 },
 "nbformat": 4,
 "nbformat_minor": 5
}
