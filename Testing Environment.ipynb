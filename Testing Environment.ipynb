{
 "cells": [
  {
   "cell_type": "code",
   "execution_count": 3,
   "id": "1d75d055",
   "metadata": {},
   "outputs": [],
   "source": [
    "from openai_util import *\n",
    "from util import *"
   ]
  },
  {
   "cell_type": "code",
   "execution_count": 4,
   "id": "0d86244a",
   "metadata": {},
   "outputs": [],
   "source": [
    "data = [\n",
    "    \"what's 1+1\",\n",
    "    \"what's 2+2\"\n",
    "]"
   ]
  },
  {
   "cell_type": "code",
   "execution_count": 5,
   "id": "ccd877a8",
   "metadata": {},
   "outputs": [
    {
     "name": "stderr",
     "output_type": "stream",
     "text": [
      "Generating responses: 100%|█████████████████████████| 2/2 [00:01<00:00,  1.16it/s]\n"
     ]
    }
   ],
   "source": [
    "generate_and_write_responses(data)"
   ]
  },
  {
   "cell_type": "code",
   "execution_count": 7,
   "id": "aa68649f",
   "metadata": {},
   "outputs": [
    {
     "name": "stdout",
     "output_type": "stream",
     "text": [
      "Uploading file | (0m 6.6s)\n",
      "File upload processed with ID: file-JMh3jlgzgJz9FZ6Kwd36X7YT      \n"
     ]
    },
    {
     "data": {
      "text/plain": [
       "'file-JMh3jlgzgJz9FZ6Kwd36X7YT'"
      ]
     },
     "execution_count": 7,
     "metadata": {},
     "output_type": "execute_result"
    }
   ],
   "source": [
    "upload_training_data(\"generated_data.jsonl\")"
   ]
  },
  {
   "cell_type": "code",
   "execution_count": null,
   "id": "976c6620",
   "metadata": {},
   "outputs": [],
   "source": [
    "fine_tune_model(\"file-JMh3jlgzgJz9FZ6Kwd36X7YT\", 2)"
   ]
  }
 ],
 "metadata": {
  "kernelspec": {
   "display_name": "Python 3 (ipykernel)",
   "language": "python",
   "name": "python3"
  },
  "language_info": {
   "codemirror_mode": {
    "name": "ipython",
    "version": 3
   },
   "file_extension": ".py",
   "mimetype": "text/x-python",
   "name": "python",
   "nbconvert_exporter": "python",
   "pygments_lexer": "ipython3",
   "version": "3.9.6"
  }
 },
 "nbformat": 4,
 "nbformat_minor": 5
}
